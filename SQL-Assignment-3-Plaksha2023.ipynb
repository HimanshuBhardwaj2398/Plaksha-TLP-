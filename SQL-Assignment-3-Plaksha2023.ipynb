{
 "cells": [
  {
   "cell_type": "markdown",
   "id": "b3d08535",
   "metadata": {},
   "source": [
    "<img src=\"https://raw.githubusercontent.com/afo/data-x-plaksha/master/imgsource/dx_logo.png\" align=\"left\"></img><br><br><br><br>"
   ]
  },
  {
   "cell_type": "markdown",
   "id": "4c408082",
   "metadata": {},
   "source": [
    "## Plaksha SQL assignment"
   ]
  },
  {
   "cell_type": "markdown",
   "id": "7f7d4113-c3a9-47b2-b7df-b844d49abd22",
   "metadata": {},
   "source": [
    "---\n",
    "\n",
    "## Submission details:\n",
    "\n",
    "Please submit this as a Jupyter Notebook and a PDF of your results (both should show output). Also push your solutions to Github.\n",
    "\n",
    "For the submision create a local database with `sqlite3` or `sqlalchemy` in a Jupyter notebook and make the queries either with a cursor object (and then print the results) or by using pandas `pd.read_sql_query()`."
   ]
  },
  {
   "cell_type": "markdown",
   "id": "0c551f03-7eff-43e2-89a7-a53b54098223",
   "metadata": {},
   "source": [
    "___\n",
    "\n",
    "When completing this homework you can experiment with SQL commands by utilizing this great online editor:\n",
    "\n",
    "https://www.w3schools.com/sql/trysql.asp?filename=trysql_select_all\n",
    "\n",
    "There are already some tables in the online Database, namely:\n",
    "\n",
    "`Categories, Employees, OrderDetails, Orders, Products, Shippers, and Suppliers.`\n",
    "\n",
    "If you want you can drop them by running  `DROP TABLE [table-name];` (or just keep them)."
   ]
  },
  {
   "cell_type": "markdown",
   "id": "dccc820f-21b0-4b2c-9ca8-9cb9eab76023",
   "metadata": {},
   "source": [
    "___\n",
    "\n",
    "## Exercises:\n",
    "\n",
    "First create a table called students. It has the columns: 'student_id', 'name', 'major', 'gpa' and 'enrollment_date' We will use a new form of `CREATE TABLE` expression to produce this table.\n",
    "\n",
    "Note that you can improve this and are welcome to do so -- e.g. by specifying for example a PRIMARY KEY and a FOREIGN KEY in Q2 :)\n",
    "\n",
    "    CREATE TABLE students AS\n",
    "        SELECT 1 AS student_id, \"John\" AS name, \"Computer Science\" AS major, 3.5 AS gpa, \"01-01-2022\" AS enrollment_date UNION\n",
    "        SELECT 2, \"Jane\", \"Physics\", 3.8, \"01-02-2022\" UNION\n",
    "        SELECT 3, \"Bob\", \"Engineering\", 3.0, \"01-03-2022\" UNION\n",
    "        SELECT 4, \"Samantha\", \"Physics\", 3.9, \"01-04-2022\" UNION\n",
    "        SELECT 5, \"James\", \"Engineering\", 3.7, \"01-05-2022\" UNION\n",
    "        SELECT 6, \"Emily\", \"Computer Science\", 3.6, \"01-06-2022\" UNION\n",
    "        SELECT 7, \"Michael\", \"Computer Science\", 3.2, \"01-07-2022\" UNION\n",
    "        SELECT 8, \"Jessica\", \"Engineering\", 3.8, \"01-08-2022\" UNION\n",
    "        SELECT 9, \"Jacob\", \"Physics\", 3.4, \"01-09-2022\" UNION\n",
    "        SELECT 10, \"Ashley\", \"Physics\", 3.9, \"01-10-2022\";\n",
    "\n",
    "\n",
    "## Q1 Simple SELECTS (on the students table)\n",
    "1. SELECT all records in the table.\n",
    "2. SELECT students whose major is \"Computer Science\".\n",
    "3. SELECT all unique majors (use SELECT DISTINCT) and order them by name, descending order (i.e. Physics first).\n",
    "4. SELECT all students that have an 'e' in their name and order them by gpa in ascending order.\n",
    "\n",
    "\n",
    "## Q2 Joins\n",
    "\n",
    "Create a new table called courses, which indicates the courses taken by the students. \n",
    "\n",
    "Create the table by running:\n",
    "\t\n",
    "    CREATE TABLE courses AS\n",
    "        SELECT 1 AS course_id, \"Python programming\" AS course_name, 1 AS student_id, \"A\" AS grade UNION\n",
    "        SELECT 2, \"Data Structures\", 2, \"B\" UNION\n",
    "        SELECT 3, \"Database Systems\", 3, \"B\" UNION\n",
    "        SELECT 1, \"Python programming\", 4, \"A\" UNION\n",
    "        SELECT 4, \"Quantum Mechanics\", 5, \"C\" UNION\n",
    "        SELECT 1, \"Python programming\", 6, \"F\" UNION\n",
    "        SELECT 2, \"Data Structures\", 7, \"C\" UNION\n",
    "        SELECT 3, \"Database Systems\", 8, \"A\" UNION\n",
    "        SELECT 4, \"Quantum Mechanics\", 9, \"A\" UNION\n",
    "        SELECT 2, \"Data Structures\", 10, \"F\";\n",
    "\n",
    "1. COUNT the number of unique courses.\n",
    "2. JOIN the tables students and courses and COUNT the number of students with the major Computer Science taking the course Python programming.\n",
    "3. JOIN the tables students and courses and select the students who have grades higher than \"C\", only show their name, major, gpa, course_name and grade.\n",
    "\n",
    "\n",
    "## Q3 Aggregate functions, numerical logic and grouping\n",
    "\n",
    "1. Find the average gpa of all students.\n",
    "2. SELECT the student with the maximum gpa, display only their student_id, major and gpa\n",
    "3. SELECT the student with the minimum gpa, display only their student_id, major and gpa\n",
    "4. SELECT the students with a gpa greater than 3.6 in the majors of \"Physics\" and \"Engineering\", display only their student_id, major and gpa\n",
    "5. Group the students by their major and retrieve the average grade of each major.\n",
    "6. SELECT the top 2 students with the highest GPA in each major and order the results by major in ascending order, then by GPA in descending order"
   ]
  },
  {
   "cell_type": "markdown",
   "id": "3ab84519",
   "metadata": {},
   "source": [
    "# Your solution\n",
    "\n",
    "## 1.) Simple Selects"
   ]
  },
  {
   "cell_type": "markdown",
   "id": "0984631d",
   "metadata": {},
   "source": [
    "#### 1.) SELECT all records in the table"
   ]
  },
  {
   "cell_type": "code",
   "execution_count": 115,
   "id": "c7cff114",
   "metadata": {},
   "outputs": [],
   "source": [
    "import sqlite3 as db\n",
    "import pandas as pd\n",
    "## creating a database\n",
    "connection = db.connect('assignment_3.db')\n",
    "\n",
    "## creating a cursor instance to interact with our database\n",
    "cursor = connection.cursor()\n"
   ]
  },
  {
   "cell_type": "code",
   "execution_count": 29,
   "id": "b872c96b",
   "metadata": {},
   "outputs": [
    {
     "data": {
      "text/plain": [
       "<sqlite3.Cursor at 0x13bdb992f80>"
      ]
     },
     "execution_count": 29,
     "metadata": {},
     "output_type": "execute_result"
    }
   ],
   "source": [
    "## Creating database\n",
    "command= \"\"\"\n",
    "CREATE TABLE students AS SELECT 1 AS student_id, \"John\" AS name, \"Computer Science\" AS major, 3.5 AS gpa, \"01-01-2022\" AS enrollment_date UNION\n",
    "SELECT 2, \"Jane\", \"Physics\", 3.8, \"01-02-2022\" UNION\n",
    "SELECT 3, \"Bob\", \"Engineering\", 3.0, \"01-03-2022\" UNION\n",
    "SELECT 4, \"Samantha\", \"Physics\", 3.9, \"01-04-2022\" UNION\n",
    "    SELECT 5, \"James\", \"Engineering\", 3.7, \"01-05-2022\" UNION\n",
    "    SELECT 6, \"Emily\", \"Computer Science\", 3.6, \"01-06-2022\" UNION\n",
    "    SELECT 7, \"Michael\", \"Computer Science\", 3.2, \"01-07-2022\" UNION\n",
    "    SELECT 8, \"Jessica\", \"Engineering\", 3.8, \"01-08-2022\" UNION\n",
    "    SELECT 9, \"Jacob\", \"Physics\", 3.4, \"01-09-2022\" UNION\n",
    "    SELECT 10, \"Ashley\", \"Physics\", 3.9, \"01-10-2022\";\n",
    "    \"\"\"\n",
    "cursor.execute(command)"
   ]
  },
  {
   "cell_type": "code",
   "execution_count": 45,
   "id": "2743892c",
   "metadata": {},
   "outputs": [],
   "source": [
    "command=\"\"\"SELECT * FROM students\"\"\"\n",
    "cursor.execute(command)\n"
   ]
  },
  {
   "cell_type": "code",
   "execution_count": 41,
   "id": "160685d3",
   "metadata": {},
   "outputs": [],
   "source": [
    "result=cursor.fetchall()"
   ]
  },
  {
   "cell_type": "code",
   "execution_count": 42,
   "id": "0f7fa6b9",
   "metadata": {},
   "outputs": [
    {
     "name": "stdout",
     "output_type": "stream",
     "text": [
      "(1, 'John', 'Computer Science', 3.5, '01-01-2022')\n",
      "(2, 'Jane', 'Physics', 3.8, '01-02-2022')\n",
      "(3, 'Bob', 'Engineering', 3.0, '01-03-2022')\n",
      "(4, 'Samantha', 'Physics', 3.9, '01-04-2022')\n",
      "(5, 'James', 'Engineering', 3.7, '01-05-2022')\n",
      "(6, 'Emily', 'Computer Science', 3.6, '01-06-2022')\n",
      "(7, 'Michael', 'Computer Science', 3.2, '01-07-2022')\n",
      "(8, 'Jessica', 'Engineering', 3.8, '01-08-2022')\n",
      "(9, 'Jacob', 'Physics', 3.4, '01-09-2022')\n",
      "(10, 'Ashley', 'Physics', 3.9, '01-10-2022')\n"
     ]
    }
   ],
   "source": [
    "## checking if the intended data has been loaded##\n",
    "for r in result:\n",
    "    print(r)"
   ]
  },
  {
   "cell_type": "markdown",
   "id": "f59aaeb6",
   "metadata": {},
   "source": [
    "#### 2.) SELECT students whose major is \"Computer Science\"."
   ]
  },
  {
   "cell_type": "code",
   "execution_count": 117,
   "id": "1e117a7b",
   "metadata": {},
   "outputs": [
    {
     "data": {
      "text/html": [
       "<div>\n",
       "<style scoped>\n",
       "    .dataframe tbody tr th:only-of-type {\n",
       "        vertical-align: middle;\n",
       "    }\n",
       "\n",
       "    .dataframe tbody tr th {\n",
       "        vertical-align: top;\n",
       "    }\n",
       "\n",
       "    .dataframe thead th {\n",
       "        text-align: right;\n",
       "    }\n",
       "</style>\n",
       "<table border=\"1\" class=\"dataframe\">\n",
       "  <thead>\n",
       "    <tr style=\"text-align: right;\">\n",
       "      <th></th>\n",
       "      <th>student_id</th>\n",
       "      <th>name</th>\n",
       "      <th>major</th>\n",
       "      <th>gpa</th>\n",
       "      <th>enrollment_date</th>\n",
       "    </tr>\n",
       "  </thead>\n",
       "  <tbody>\n",
       "    <tr>\n",
       "      <th>0</th>\n",
       "      <td>1</td>\n",
       "      <td>John</td>\n",
       "      <td>Computer Science</td>\n",
       "      <td>3.5</td>\n",
       "      <td>01-01-2022</td>\n",
       "    </tr>\n",
       "    <tr>\n",
       "      <th>1</th>\n",
       "      <td>6</td>\n",
       "      <td>Emily</td>\n",
       "      <td>Computer Science</td>\n",
       "      <td>3.6</td>\n",
       "      <td>01-06-2022</td>\n",
       "    </tr>\n",
       "    <tr>\n",
       "      <th>2</th>\n",
       "      <td>7</td>\n",
       "      <td>Michael</td>\n",
       "      <td>Computer Science</td>\n",
       "      <td>3.2</td>\n",
       "      <td>01-07-2022</td>\n",
       "    </tr>\n",
       "  </tbody>\n",
       "</table>\n",
       "</div>"
      ],
      "text/plain": [
       "   student_id     name             major  gpa enrollment_date\n",
       "0           1     John  Computer Science  3.5      01-01-2022\n",
       "1           6    Emily  Computer Science  3.6      01-06-2022\n",
       "2           7  Michael  Computer Science  3.2      01-07-2022"
      ]
     },
     "execution_count": 117,
     "metadata": {},
     "output_type": "execute_result"
    }
   ],
   "source": [
    "## Selecting all students with CS major\"\n",
    "command=\"\"\"SELECT * FROM students\n",
    "        WHERE major==\"Computer Science\"\n",
    "        \"\"\"\n",
    "cursor.execute(command)\n",
    "pd.read_sql_query(command,con = connection)"
   ]
  },
  {
   "cell_type": "code",
   "execution_count": 47,
   "id": "98783945",
   "metadata": {},
   "outputs": [
    {
     "name": "stdout",
     "output_type": "stream",
     "text": [
      "(1, 'John', 'Computer Science', 3.5, '01-01-2022')\n",
      "(6, 'Emily', 'Computer Science', 3.6, '01-06-2022')\n",
      "(7, 'Michael', 'Computer Science', 3.2, '01-07-2022')\n"
     ]
    }
   ],
   "source": [
    "## Checking the results of the query ##\n",
    "result=cursor.fetchall()\n",
    "for r in result:\n",
    "    print(r)"
   ]
  },
  {
   "cell_type": "markdown",
   "id": "c3cd2ae3",
   "metadata": {},
   "source": [
    "#### 3.) SELECT all unique majors (use SELECT DISTINCT) and order them by name, descending order (i.e. Physics first)."
   ]
  },
  {
   "cell_type": "code",
   "execution_count": 51,
   "id": "885aeb9f",
   "metadata": {},
   "outputs": [
    {
     "data": {
      "text/html": [
       "<div>\n",
       "<style scoped>\n",
       "    .dataframe tbody tr th:only-of-type {\n",
       "        vertical-align: middle;\n",
       "    }\n",
       "\n",
       "    .dataframe tbody tr th {\n",
       "        vertical-align: top;\n",
       "    }\n",
       "\n",
       "    .dataframe thead th {\n",
       "        text-align: right;\n",
       "    }\n",
       "</style>\n",
       "<table border=\"1\" class=\"dataframe\">\n",
       "  <thead>\n",
       "    <tr style=\"text-align: right;\">\n",
       "      <th></th>\n",
       "      <th>major</th>\n",
       "    </tr>\n",
       "  </thead>\n",
       "  <tbody>\n",
       "    <tr>\n",
       "      <th>0</th>\n",
       "      <td>Physics</td>\n",
       "    </tr>\n",
       "    <tr>\n",
       "      <th>1</th>\n",
       "      <td>Engineering</td>\n",
       "    </tr>\n",
       "    <tr>\n",
       "      <th>2</th>\n",
       "      <td>Computer Science</td>\n",
       "    </tr>\n",
       "  </tbody>\n",
       "</table>\n",
       "</div>"
      ],
      "text/plain": [
       "              major\n",
       "0           Physics\n",
       "1       Engineering\n",
       "2  Computer Science"
      ]
     },
     "execution_count": 51,
     "metadata": {},
     "output_type": "execute_result"
    }
   ],
   "source": [
    "## Selecting Unique Majors, arranged in descending order ##\n",
    "command=\"\"\"SELECT DISTINCT major FROM students\n",
    "        ORDER BY major DESC\n",
    "        \"\"\"\n",
    "cursor.execute(command)\n",
    "pd.read_sql_query(command,con = connection)"
   ]
  },
  {
   "cell_type": "markdown",
   "id": "2d6ff8c0",
   "metadata": {},
   "source": [
    "#### 4.) SELECT all students that have an 'e' in their name and order them by gpa in ascending order."
   ]
  },
  {
   "cell_type": "code",
   "execution_count": 52,
   "id": "6e98a772",
   "metadata": {},
   "outputs": [
    {
     "data": {
      "text/html": [
       "<div>\n",
       "<style scoped>\n",
       "    .dataframe tbody tr th:only-of-type {\n",
       "        vertical-align: middle;\n",
       "    }\n",
       "\n",
       "    .dataframe tbody tr th {\n",
       "        vertical-align: top;\n",
       "    }\n",
       "\n",
       "    .dataframe thead th {\n",
       "        text-align: right;\n",
       "    }\n",
       "</style>\n",
       "<table border=\"1\" class=\"dataframe\">\n",
       "  <thead>\n",
       "    <tr style=\"text-align: right;\">\n",
       "      <th></th>\n",
       "      <th>student_id</th>\n",
       "      <th>name</th>\n",
       "      <th>major</th>\n",
       "      <th>gpa</th>\n",
       "      <th>enrollment_date</th>\n",
       "    </tr>\n",
       "  </thead>\n",
       "  <tbody>\n",
       "    <tr>\n",
       "      <th>0</th>\n",
       "      <td>7</td>\n",
       "      <td>Michael</td>\n",
       "      <td>Computer Science</td>\n",
       "      <td>3.2</td>\n",
       "      <td>01-07-2022</td>\n",
       "    </tr>\n",
       "    <tr>\n",
       "      <th>1</th>\n",
       "      <td>6</td>\n",
       "      <td>Emily</td>\n",
       "      <td>Computer Science</td>\n",
       "      <td>3.6</td>\n",
       "      <td>01-06-2022</td>\n",
       "    </tr>\n",
       "    <tr>\n",
       "      <th>2</th>\n",
       "      <td>5</td>\n",
       "      <td>James</td>\n",
       "      <td>Engineering</td>\n",
       "      <td>3.7</td>\n",
       "      <td>01-05-2022</td>\n",
       "    </tr>\n",
       "    <tr>\n",
       "      <th>3</th>\n",
       "      <td>2</td>\n",
       "      <td>Jane</td>\n",
       "      <td>Physics</td>\n",
       "      <td>3.8</td>\n",
       "      <td>01-02-2022</td>\n",
       "    </tr>\n",
       "    <tr>\n",
       "      <th>4</th>\n",
       "      <td>8</td>\n",
       "      <td>Jessica</td>\n",
       "      <td>Engineering</td>\n",
       "      <td>3.8</td>\n",
       "      <td>01-08-2022</td>\n",
       "    </tr>\n",
       "    <tr>\n",
       "      <th>5</th>\n",
       "      <td>10</td>\n",
       "      <td>Ashley</td>\n",
       "      <td>Physics</td>\n",
       "      <td>3.9</td>\n",
       "      <td>01-10-2022</td>\n",
       "    </tr>\n",
       "  </tbody>\n",
       "</table>\n",
       "</div>"
      ],
      "text/plain": [
       "   student_id     name             major  gpa enrollment_date\n",
       "0           7  Michael  Computer Science  3.2      01-07-2022\n",
       "1           6    Emily  Computer Science  3.6      01-06-2022\n",
       "2           5    James       Engineering  3.7      01-05-2022\n",
       "3           2     Jane           Physics  3.8      01-02-2022\n",
       "4           8  Jessica       Engineering  3.8      01-08-2022\n",
       "5          10   Ashley           Physics  3.9      01-10-2022"
      ]
     },
     "execution_count": 52,
     "metadata": {},
     "output_type": "execute_result"
    }
   ],
   "source": [
    "## Selecting all the students with character 'e', araanged by GPA ##\n",
    "\n",
    "command=\"\"\"SELECT * FROM students\n",
    "        WHERE name LIKE '%e%'\n",
    "        ORDER BY gpa\n",
    "        \"\"\"\n",
    "cursor.execute(command)\n",
    "pd.read_sql_query(command,con = connection)"
   ]
  },
  {
   "cell_type": "markdown",
   "id": "11f72690",
   "metadata": {},
   "source": [
    "## 2.) Joins"
   ]
  },
  {
   "cell_type": "markdown",
   "id": "7eec0158",
   "metadata": {},
   "source": [
    "#### 1.) COUNT the number of unique courses"
   ]
  },
  {
   "cell_type": "code",
   "execution_count": 54,
   "id": "645042b1",
   "metadata": {},
   "outputs": [],
   "source": [
    "## Creating courses table ##\n",
    "command=\"\"\"\n",
    "CREATE TABLE courses AS\n",
    "    SELECT 1 AS course_id, \"Python programming\" AS course_name, 1 AS student_id, \"A\" AS grade UNION\n",
    "    SELECT 2, \"Data Structures\", 2, \"B\" UNION\n",
    "    SELECT 3, \"Database Systems\", 3, \"B\" UNION\n",
    "    SELECT 1, \"Python programming\", 4, \"A\" UNION\n",
    "    SELECT 4, \"Quantum Mechanics\", 5, \"C\" UNION\n",
    "    SELECT 1, \"Python programming\", 6, \"F\" UNION\n",
    "    SELECT 2, \"Data Structures\", 7, \"C\" UNION\n",
    "    SELECT 3, \"Database Systems\", 8, \"A\" UNION\n",
    "    SELECT 4, \"Quantum Mechanics\", 9, \"A\" UNION\n",
    "    SELECT 2, \"Data Structures\", 10, \"F\";\n",
    "    \"\"\"\n",
    "cursor.execute(command)"
   ]
  },
  {
   "cell_type": "code",
   "execution_count": 56,
   "id": "77ed83ad",
   "metadata": {},
   "outputs": [
    {
     "data": {
      "text/html": [
       "<div>\n",
       "<style scoped>\n",
       "    .dataframe tbody tr th:only-of-type {\n",
       "        vertical-align: middle;\n",
       "    }\n",
       "\n",
       "    .dataframe tbody tr th {\n",
       "        vertical-align: top;\n",
       "    }\n",
       "\n",
       "    .dataframe thead th {\n",
       "        text-align: right;\n",
       "    }\n",
       "</style>\n",
       "<table border=\"1\" class=\"dataframe\">\n",
       "  <thead>\n",
       "    <tr style=\"text-align: right;\">\n",
       "      <th></th>\n",
       "      <th>course_id</th>\n",
       "      <th>course_name</th>\n",
       "      <th>student_id</th>\n",
       "      <th>grade</th>\n",
       "    </tr>\n",
       "  </thead>\n",
       "  <tbody>\n",
       "    <tr>\n",
       "      <th>0</th>\n",
       "      <td>1</td>\n",
       "      <td>Python programming</td>\n",
       "      <td>1</td>\n",
       "      <td>A</td>\n",
       "    </tr>\n",
       "    <tr>\n",
       "      <th>1</th>\n",
       "      <td>1</td>\n",
       "      <td>Python programming</td>\n",
       "      <td>4</td>\n",
       "      <td>A</td>\n",
       "    </tr>\n",
       "    <tr>\n",
       "      <th>2</th>\n",
       "      <td>1</td>\n",
       "      <td>Python programming</td>\n",
       "      <td>6</td>\n",
       "      <td>F</td>\n",
       "    </tr>\n",
       "    <tr>\n",
       "      <th>3</th>\n",
       "      <td>2</td>\n",
       "      <td>Data Structures</td>\n",
       "      <td>2</td>\n",
       "      <td>B</td>\n",
       "    </tr>\n",
       "    <tr>\n",
       "      <th>4</th>\n",
       "      <td>2</td>\n",
       "      <td>Data Structures</td>\n",
       "      <td>7</td>\n",
       "      <td>C</td>\n",
       "    </tr>\n",
       "    <tr>\n",
       "      <th>5</th>\n",
       "      <td>2</td>\n",
       "      <td>Data Structures</td>\n",
       "      <td>10</td>\n",
       "      <td>F</td>\n",
       "    </tr>\n",
       "    <tr>\n",
       "      <th>6</th>\n",
       "      <td>3</td>\n",
       "      <td>Database Systems</td>\n",
       "      <td>3</td>\n",
       "      <td>B</td>\n",
       "    </tr>\n",
       "    <tr>\n",
       "      <th>7</th>\n",
       "      <td>3</td>\n",
       "      <td>Database Systems</td>\n",
       "      <td>8</td>\n",
       "      <td>A</td>\n",
       "    </tr>\n",
       "    <tr>\n",
       "      <th>8</th>\n",
       "      <td>4</td>\n",
       "      <td>Quantum Mechanics</td>\n",
       "      <td>5</td>\n",
       "      <td>C</td>\n",
       "    </tr>\n",
       "    <tr>\n",
       "      <th>9</th>\n",
       "      <td>4</td>\n",
       "      <td>Quantum Mechanics</td>\n",
       "      <td>9</td>\n",
       "      <td>A</td>\n",
       "    </tr>\n",
       "  </tbody>\n",
       "</table>\n",
       "</div>"
      ],
      "text/plain": [
       "   course_id         course_name  student_id grade\n",
       "0          1  Python programming           1     A\n",
       "1          1  Python programming           4     A\n",
       "2          1  Python programming           6     F\n",
       "3          2     Data Structures           2     B\n",
       "4          2     Data Structures           7     C\n",
       "5          2     Data Structures          10     F\n",
       "6          3    Database Systems           3     B\n",
       "7          3    Database Systems           8     A\n",
       "8          4   Quantum Mechanics           5     C\n",
       "9          4   Quantum Mechanics           9     A"
      ]
     },
     "execution_count": 56,
     "metadata": {},
     "output_type": "execute_result"
    }
   ],
   "source": [
    "command=\"\"\"SELECT * from courses\"\"\"\n",
    "cursor.execute(command)\n",
    "pd.read_sql_query(command,con = connection)"
   ]
  },
  {
   "cell_type": "code",
   "execution_count": 58,
   "id": "48a747f5",
   "metadata": {},
   "outputs": [
    {
     "name": "stdout",
     "output_type": "stream",
     "text": [
      "Number of unique courses in the table\n"
     ]
    },
    {
     "data": {
      "text/html": [
       "<div>\n",
       "<style scoped>\n",
       "    .dataframe tbody tr th:only-of-type {\n",
       "        vertical-align: middle;\n",
       "    }\n",
       "\n",
       "    .dataframe tbody tr th {\n",
       "        vertical-align: top;\n",
       "    }\n",
       "\n",
       "    .dataframe thead th {\n",
       "        text-align: right;\n",
       "    }\n",
       "</style>\n",
       "<table border=\"1\" class=\"dataframe\">\n",
       "  <thead>\n",
       "    <tr style=\"text-align: right;\">\n",
       "      <th></th>\n",
       "      <th>COUNT(DISTINCT course_id)</th>\n",
       "    </tr>\n",
       "  </thead>\n",
       "  <tbody>\n",
       "    <tr>\n",
       "      <th>0</th>\n",
       "      <td>4</td>\n",
       "    </tr>\n",
       "  </tbody>\n",
       "</table>\n",
       "</div>"
      ],
      "text/plain": [
       "   COUNT(DISTINCT course_id)\n",
       "0                          4"
      ]
     },
     "execution_count": 58,
     "metadata": {},
     "output_type": "execute_result"
    }
   ],
   "source": [
    "## Counting number of unique courses ##\n",
    "command=\"\"\"\n",
    "SELECT COUNT(DISTINCT course_id) FROM courses\n",
    "\"\"\"\n",
    "cursor.execute(command)\n",
    "print(\"Number of unique courses in the table\")\n",
    "pd.read_sql_query(command,con = connection)"
   ]
  },
  {
   "cell_type": "markdown",
   "id": "03629f4b",
   "metadata": {},
   "source": [
    "#### 2.) JOIN the tables students and courses and COUNT the number of students with the major Computer Science taking the course Python programming."
   ]
  },
  {
   "cell_type": "code",
   "execution_count": 67,
   "id": "5c78116d",
   "metadata": {},
   "outputs": [
    {
     "data": {
      "text/html": [
       "<div>\n",
       "<style scoped>\n",
       "    .dataframe tbody tr th:only-of-type {\n",
       "        vertical-align: middle;\n",
       "    }\n",
       "\n",
       "    .dataframe tbody tr th {\n",
       "        vertical-align: top;\n",
       "    }\n",
       "\n",
       "    .dataframe thead th {\n",
       "        text-align: right;\n",
       "    }\n",
       "</style>\n",
       "<table border=\"1\" class=\"dataframe\">\n",
       "  <thead>\n",
       "    <tr style=\"text-align: right;\">\n",
       "      <th></th>\n",
       "      <th>Number of CS students taking Python</th>\n",
       "    </tr>\n",
       "  </thead>\n",
       "  <tbody>\n",
       "    <tr>\n",
       "      <th>0</th>\n",
       "      <td>2</td>\n",
       "    </tr>\n",
       "  </tbody>\n",
       "</table>\n",
       "</div>"
      ],
      "text/plain": [
       "   Number of CS students taking Python\n",
       "0                                    2"
      ]
     },
     "execution_count": 67,
     "metadata": {},
     "output_type": "execute_result"
    }
   ],
   "source": [
    "## Joining students and courses table and getting number of CS students taking Python ##\n",
    "command=\"\"\"\n",
    "SELECT COUNT(*) AS \"Number of CS students taking Python\"\n",
    "FROM students\n",
    "INNER JOIN courses ON students.student_id=courses.student_id\n",
    "WHERE students.major='Computer Science' and courses.course_name='Python programming';\n",
    "\"\"\"\n",
    "cursor.execute(command)\n",
    "pd.read_sql_query(command,con = connection)"
   ]
  },
  {
   "cell_type": "markdown",
   "id": "2e3c9e0e",
   "metadata": {},
   "source": [
    "#### 3.) JOIN the tables students and courses and select the students who have grades higher than \"C\", only show their name, major, gpa, course_name and grade.\n",
    "\n",
    "Here, by higher grade we are taking grades which are considered better than C(at least in plaksha :))"
   ]
  },
  {
   "cell_type": "code",
   "execution_count": 72,
   "id": "b3f38661",
   "metadata": {},
   "outputs": [
    {
     "data": {
      "text/html": [
       "<div>\n",
       "<style scoped>\n",
       "    .dataframe tbody tr th:only-of-type {\n",
       "        vertical-align: middle;\n",
       "    }\n",
       "\n",
       "    .dataframe tbody tr th {\n",
       "        vertical-align: top;\n",
       "    }\n",
       "\n",
       "    .dataframe thead th {\n",
       "        text-align: right;\n",
       "    }\n",
       "</style>\n",
       "<table border=\"1\" class=\"dataframe\">\n",
       "  <thead>\n",
       "    <tr style=\"text-align: right;\">\n",
       "      <th></th>\n",
       "      <th>name</th>\n",
       "      <th>major</th>\n",
       "      <th>gpa</th>\n",
       "      <th>course_name</th>\n",
       "      <th>grade</th>\n",
       "    </tr>\n",
       "  </thead>\n",
       "  <tbody>\n",
       "    <tr>\n",
       "      <th>0</th>\n",
       "      <td>John</td>\n",
       "      <td>Computer Science</td>\n",
       "      <td>3.5</td>\n",
       "      <td>Python programming</td>\n",
       "      <td>A</td>\n",
       "    </tr>\n",
       "    <tr>\n",
       "      <th>1</th>\n",
       "      <td>Samantha</td>\n",
       "      <td>Physics</td>\n",
       "      <td>3.9</td>\n",
       "      <td>Python programming</td>\n",
       "      <td>A</td>\n",
       "    </tr>\n",
       "    <tr>\n",
       "      <th>2</th>\n",
       "      <td>Jessica</td>\n",
       "      <td>Engineering</td>\n",
       "      <td>3.8</td>\n",
       "      <td>Database Systems</td>\n",
       "      <td>A</td>\n",
       "    </tr>\n",
       "    <tr>\n",
       "      <th>3</th>\n",
       "      <td>Jacob</td>\n",
       "      <td>Physics</td>\n",
       "      <td>3.4</td>\n",
       "      <td>Quantum Mechanics</td>\n",
       "      <td>A</td>\n",
       "    </tr>\n",
       "    <tr>\n",
       "      <th>4</th>\n",
       "      <td>Jane</td>\n",
       "      <td>Physics</td>\n",
       "      <td>3.8</td>\n",
       "      <td>Data Structures</td>\n",
       "      <td>B</td>\n",
       "    </tr>\n",
       "    <tr>\n",
       "      <th>5</th>\n",
       "      <td>Bob</td>\n",
       "      <td>Engineering</td>\n",
       "      <td>3.0</td>\n",
       "      <td>Database Systems</td>\n",
       "      <td>B</td>\n",
       "    </tr>\n",
       "  </tbody>\n",
       "</table>\n",
       "</div>"
      ],
      "text/plain": [
       "       name             major  gpa         course_name grade\n",
       "0      John  Computer Science  3.5  Python programming     A\n",
       "1  Samantha           Physics  3.9  Python programming     A\n",
       "2   Jessica       Engineering  3.8    Database Systems     A\n",
       "3     Jacob           Physics  3.4   Quantum Mechanics     A\n",
       "4      Jane           Physics  3.8     Data Structures     B\n",
       "5       Bob       Engineering  3.0    Database Systems     B"
      ]
     },
     "execution_count": 72,
     "metadata": {},
     "output_type": "execute_result"
    }
   ],
   "source": [
    "\n",
    "command=\"\"\"\n",
    "SELECT students.name,students.major,students.gpa,courses.course_name,courses.grade\n",
    "FROM students\n",
    "INNER JOIN courses ON students.student_id=courses.student_id\n",
    "WHERE courses.grade<'C'\n",
    "ORDER BY courses.grade;\n",
    "\"\"\"\n",
    "cursor.execute(command)\n",
    "pd.read_sql_query(command,con = connection)"
   ]
  },
  {
   "cell_type": "markdown",
   "id": "012f72ae",
   "metadata": {},
   "source": [
    "## 3.) Aggregate functions, numerical logic and grouping"
   ]
  },
  {
   "cell_type": "markdown",
   "id": "204fe2d4",
   "metadata": {},
   "source": [
    "#### 1.) Find the average gpa of all students."
   ]
  },
  {
   "cell_type": "code",
   "execution_count": 75,
   "id": "2e00418d",
   "metadata": {},
   "outputs": [
    {
     "data": {
      "text/html": [
       "<div>\n",
       "<style scoped>\n",
       "    .dataframe tbody tr th:only-of-type {\n",
       "        vertical-align: middle;\n",
       "    }\n",
       "\n",
       "    .dataframe tbody tr th {\n",
       "        vertical-align: top;\n",
       "    }\n",
       "\n",
       "    .dataframe thead th {\n",
       "        text-align: right;\n",
       "    }\n",
       "</style>\n",
       "<table border=\"1\" class=\"dataframe\">\n",
       "  <thead>\n",
       "    <tr style=\"text-align: right;\">\n",
       "      <th></th>\n",
       "      <th>AVG(gpa)</th>\n",
       "    </tr>\n",
       "  </thead>\n",
       "  <tbody>\n",
       "    <tr>\n",
       "      <th>0</th>\n",
       "      <td>3.58</td>\n",
       "    </tr>\n",
       "  </tbody>\n",
       "</table>\n",
       "</div>"
      ],
      "text/plain": [
       "   AVG(gpa)\n",
       "0      3.58"
      ]
     },
     "execution_count": 75,
     "metadata": {},
     "output_type": "execute_result"
    }
   ],
   "source": [
    "command=\"\"\"\n",
    "SELECT AVG(gpa) from students\"\"\"\n",
    "cursor.execute(command)\n",
    "pd.read_sql_query(command,con = connection)"
   ]
  },
  {
   "cell_type": "markdown",
   "id": "632029d4",
   "metadata": {},
   "source": [
    "#### 2.) SELECT the student with the maximum gpa, display only their student_id, major and gpa"
   ]
  },
  {
   "cell_type": "code",
   "execution_count": 77,
   "id": "dfc0e2ec",
   "metadata": {},
   "outputs": [
    {
     "data": {
      "text/html": [
       "<div>\n",
       "<style scoped>\n",
       "    .dataframe tbody tr th:only-of-type {\n",
       "        vertical-align: middle;\n",
       "    }\n",
       "\n",
       "    .dataframe tbody tr th {\n",
       "        vertical-align: top;\n",
       "    }\n",
       "\n",
       "    .dataframe thead th {\n",
       "        text-align: right;\n",
       "    }\n",
       "</style>\n",
       "<table border=\"1\" class=\"dataframe\">\n",
       "  <thead>\n",
       "    <tr style=\"text-align: right;\">\n",
       "      <th></th>\n",
       "      <th>student_id</th>\n",
       "      <th>major</th>\n",
       "      <th>gpa</th>\n",
       "    </tr>\n",
       "  </thead>\n",
       "  <tbody>\n",
       "    <tr>\n",
       "      <th>0</th>\n",
       "      <td>4</td>\n",
       "      <td>Physics</td>\n",
       "      <td>3.9</td>\n",
       "    </tr>\n",
       "  </tbody>\n",
       "</table>\n",
       "</div>"
      ],
      "text/plain": [
       "   student_id    major  gpa\n",
       "0           4  Physics  3.9"
      ]
     },
     "execution_count": 77,
     "metadata": {},
     "output_type": "execute_result"
    }
   ],
   "source": [
    "command=\"\"\"\n",
    "SELECT student_id,major,gpa from students\n",
    "ORDER BY gpa DESC\n",
    "LIMIT 1\n",
    "\"\"\"\n",
    "cursor.execute(command)\n",
    "pd.read_sql_query(command,con = connection)"
   ]
  },
  {
   "cell_type": "markdown",
   "id": "cbbba87e",
   "metadata": {},
   "source": [
    "#### 3.) SELECT the student with the minimum gpa, display only their student_id, major and gpa"
   ]
  },
  {
   "cell_type": "code",
   "execution_count": 79,
   "id": "38164a09",
   "metadata": {},
   "outputs": [
    {
     "data": {
      "text/html": [
       "<div>\n",
       "<style scoped>\n",
       "    .dataframe tbody tr th:only-of-type {\n",
       "        vertical-align: middle;\n",
       "    }\n",
       "\n",
       "    .dataframe tbody tr th {\n",
       "        vertical-align: top;\n",
       "    }\n",
       "\n",
       "    .dataframe thead th {\n",
       "        text-align: right;\n",
       "    }\n",
       "</style>\n",
       "<table border=\"1\" class=\"dataframe\">\n",
       "  <thead>\n",
       "    <tr style=\"text-align: right;\">\n",
       "      <th></th>\n",
       "      <th>student_id</th>\n",
       "      <th>major</th>\n",
       "      <th>gpa</th>\n",
       "    </tr>\n",
       "  </thead>\n",
       "  <tbody>\n",
       "    <tr>\n",
       "      <th>0</th>\n",
       "      <td>3</td>\n",
       "      <td>Engineering</td>\n",
       "      <td>3.0</td>\n",
       "    </tr>\n",
       "  </tbody>\n",
       "</table>\n",
       "</div>"
      ],
      "text/plain": [
       "   student_id        major  gpa\n",
       "0           3  Engineering  3.0"
      ]
     },
     "execution_count": 79,
     "metadata": {},
     "output_type": "execute_result"
    }
   ],
   "source": [
    "command=\"\"\"\n",
    "SELECT student_id,major,gpa from students\n",
    "ORDER BY gpa ASC\n",
    "LIMIT 1\n",
    "\"\"\"\n",
    "cursor.execute(command)\n",
    "pd.read_sql_query(command,con = connection)"
   ]
  },
  {
   "cell_type": "markdown",
   "id": "6f3edda6",
   "metadata": {},
   "source": [
    "#### 4.) SELECT the students with a gpa greater than 3.6 in the majors of \"Physics\" and \"Engineering\", display only their student_id, major and gpa"
   ]
  },
  {
   "cell_type": "code",
   "execution_count": 86,
   "id": "e557ac97",
   "metadata": {},
   "outputs": [
    {
     "data": {
      "text/html": [
       "<div>\n",
       "<style scoped>\n",
       "    .dataframe tbody tr th:only-of-type {\n",
       "        vertical-align: middle;\n",
       "    }\n",
       "\n",
       "    .dataframe tbody tr th {\n",
       "        vertical-align: top;\n",
       "    }\n",
       "\n",
       "    .dataframe thead th {\n",
       "        text-align: right;\n",
       "    }\n",
       "</style>\n",
       "<table border=\"1\" class=\"dataframe\">\n",
       "  <thead>\n",
       "    <tr style=\"text-align: right;\">\n",
       "      <th></th>\n",
       "      <th>student_id</th>\n",
       "      <th>major</th>\n",
       "      <th>gpa</th>\n",
       "    </tr>\n",
       "  </thead>\n",
       "  <tbody>\n",
       "    <tr>\n",
       "      <th>0</th>\n",
       "      <td>4</td>\n",
       "      <td>Physics</td>\n",
       "      <td>3.9</td>\n",
       "    </tr>\n",
       "    <tr>\n",
       "      <th>1</th>\n",
       "      <td>10</td>\n",
       "      <td>Physics</td>\n",
       "      <td>3.9</td>\n",
       "    </tr>\n",
       "    <tr>\n",
       "      <th>2</th>\n",
       "      <td>2</td>\n",
       "      <td>Physics</td>\n",
       "      <td>3.8</td>\n",
       "    </tr>\n",
       "    <tr>\n",
       "      <th>3</th>\n",
       "      <td>8</td>\n",
       "      <td>Engineering</td>\n",
       "      <td>3.8</td>\n",
       "    </tr>\n",
       "    <tr>\n",
       "      <th>4</th>\n",
       "      <td>5</td>\n",
       "      <td>Engineering</td>\n",
       "      <td>3.7</td>\n",
       "    </tr>\n",
       "  </tbody>\n",
       "</table>\n",
       "</div>"
      ],
      "text/plain": [
       "   student_id        major  gpa\n",
       "0           4      Physics  3.9\n",
       "1          10      Physics  3.9\n",
       "2           2      Physics  3.8\n",
       "3           8  Engineering  3.8\n",
       "4           5  Engineering  3.7"
      ]
     },
     "execution_count": 86,
     "metadata": {},
     "output_type": "execute_result"
    }
   ],
   "source": [
    "command=\"\"\"\n",
    "SELECT student_id,major,gpa from students\n",
    "WHERE major in ('Physics','Engineering') AND gpa >3.6\n",
    "ORDER BY gpa DESC\n",
    "\"\"\"\n",
    "cursor.execute(command)\n",
    "pd.read_sql_query(command,con = connection)"
   ]
  },
  {
   "cell_type": "markdown",
   "id": "f5a69576",
   "metadata": {},
   "source": [
    "#### 5.) Group the students by their major and retrieve the average grade of each major."
   ]
  },
  {
   "cell_type": "code",
   "execution_count": 89,
   "id": "fc09488b",
   "metadata": {},
   "outputs": [
    {
     "data": {
      "text/html": [
       "<div>\n",
       "<style scoped>\n",
       "    .dataframe tbody tr th:only-of-type {\n",
       "        vertical-align: middle;\n",
       "    }\n",
       "\n",
       "    .dataframe tbody tr th {\n",
       "        vertical-align: top;\n",
       "    }\n",
       "\n",
       "    .dataframe thead th {\n",
       "        text-align: right;\n",
       "    }\n",
       "</style>\n",
       "<table border=\"1\" class=\"dataframe\">\n",
       "  <thead>\n",
       "    <tr style=\"text-align: right;\">\n",
       "      <th></th>\n",
       "      <th>major</th>\n",
       "      <th>Average GPA</th>\n",
       "    </tr>\n",
       "  </thead>\n",
       "  <tbody>\n",
       "    <tr>\n",
       "      <th>0</th>\n",
       "      <td>Computer Science</td>\n",
       "      <td>3.433333</td>\n",
       "    </tr>\n",
       "    <tr>\n",
       "      <th>1</th>\n",
       "      <td>Engineering</td>\n",
       "      <td>3.500000</td>\n",
       "    </tr>\n",
       "    <tr>\n",
       "      <th>2</th>\n",
       "      <td>Physics</td>\n",
       "      <td>3.750000</td>\n",
       "    </tr>\n",
       "  </tbody>\n",
       "</table>\n",
       "</div>"
      ],
      "text/plain": [
       "              major  Average GPA\n",
       "0  Computer Science     3.433333\n",
       "1       Engineering     3.500000\n",
       "2           Physics     3.750000"
      ]
     },
     "execution_count": 89,
     "metadata": {},
     "output_type": "execute_result"
    }
   ],
   "source": [
    "command=\"\"\"\n",
    "SELECT major,AVG(gpa) AS \"Average GPA\" from students\n",
    "GROUP BY major\n",
    "\"\"\"\n",
    "cursor.execute(command)\n",
    "pd.read_sql_query(command,con = connection)"
   ]
  },
  {
   "cell_type": "markdown",
   "id": "2a82a7e6",
   "metadata": {},
   "source": [
    "#### 6.) SELECT the top 2 students with the highest GPA in each major and order the results by major in ascending order, then by GPA in descending order"
   ]
  },
  {
   "cell_type": "code",
   "execution_count": 113,
   "id": "1c95f0ee",
   "metadata": {},
   "outputs": [
    {
     "data": {
      "text/html": [
       "<div>\n",
       "<style scoped>\n",
       "    .dataframe tbody tr th:only-of-type {\n",
       "        vertical-align: middle;\n",
       "    }\n",
       "\n",
       "    .dataframe tbody tr th {\n",
       "        vertical-align: top;\n",
       "    }\n",
       "\n",
       "    .dataframe thead th {\n",
       "        text-align: right;\n",
       "    }\n",
       "</style>\n",
       "<table border=\"1\" class=\"dataframe\">\n",
       "  <thead>\n",
       "    <tr style=\"text-align: right;\">\n",
       "      <th></th>\n",
       "      <th>name</th>\n",
       "      <th>major</th>\n",
       "      <th>gpa</th>\n",
       "      <th>Rank</th>\n",
       "    </tr>\n",
       "  </thead>\n",
       "  <tbody>\n",
       "    <tr>\n",
       "      <th>0</th>\n",
       "      <td>Emily</td>\n",
       "      <td>Computer Science</td>\n",
       "      <td>3.6</td>\n",
       "      <td>1</td>\n",
       "    </tr>\n",
       "    <tr>\n",
       "      <th>1</th>\n",
       "      <td>John</td>\n",
       "      <td>Computer Science</td>\n",
       "      <td>3.5</td>\n",
       "      <td>2</td>\n",
       "    </tr>\n",
       "    <tr>\n",
       "      <th>2</th>\n",
       "      <td>Jessica</td>\n",
       "      <td>Engineering</td>\n",
       "      <td>3.8</td>\n",
       "      <td>1</td>\n",
       "    </tr>\n",
       "    <tr>\n",
       "      <th>3</th>\n",
       "      <td>James</td>\n",
       "      <td>Engineering</td>\n",
       "      <td>3.7</td>\n",
       "      <td>2</td>\n",
       "    </tr>\n",
       "    <tr>\n",
       "      <th>4</th>\n",
       "      <td>Samantha</td>\n",
       "      <td>Physics</td>\n",
       "      <td>3.9</td>\n",
       "      <td>1</td>\n",
       "    </tr>\n",
       "    <tr>\n",
       "      <th>5</th>\n",
       "      <td>Ashley</td>\n",
       "      <td>Physics</td>\n",
       "      <td>3.9</td>\n",
       "      <td>1</td>\n",
       "    </tr>\n",
       "  </tbody>\n",
       "</table>\n",
       "</div>"
      ],
      "text/plain": [
       "       name             major  gpa  Rank\n",
       "0     Emily  Computer Science  3.6     1\n",
       "1      John  Computer Science  3.5     2\n",
       "2   Jessica       Engineering  3.8     1\n",
       "3     James       Engineering  3.7     2\n",
       "4  Samantha           Physics  3.9     1\n",
       "5    Ashley           Physics  3.9     1"
      ]
     },
     "execution_count": 113,
     "metadata": {},
     "output_type": "execute_result"
    }
   ],
   "source": [
    "command=\"\"\"\n",
    "with temp as\n",
    "(SELECT name,major,gpa, rank() OVER(PARTITION BY major\n",
    "       ORDER BY gpa DESC) AS \"Rank\"\n",
    "From students)\n",
    "SELECT * from temp\n",
    "WHERE Rank<3\n",
    "ORDER BY major;\n",
    "\"\"\"\n",
    "\n",
    "cursor.execute(command)\n",
    "pd.read_sql_query(command,con = connection)"
   ]
  },
  {
   "cell_type": "code",
   "execution_count": 114,
   "id": "6332b9a1",
   "metadata": {},
   "outputs": [],
   "source": [
    "connection.commit()"
   ]
  },
  {
   "cell_type": "code",
   "execution_count": null,
   "id": "d6c1de34",
   "metadata": {},
   "outputs": [],
   "source": []
  }
 ],
 "metadata": {
  "kernelspec": {
   "display_name": "Python 3 (ipykernel)",
   "language": "python",
   "name": "python3"
  },
  "language_info": {
   "codemirror_mode": {
    "name": "ipython",
    "version": 3
   },
   "file_extension": ".py",
   "mimetype": "text/x-python",
   "name": "python",
   "nbconvert_exporter": "python",
   "pygments_lexer": "ipython3",
   "version": "3.9.12"
  }
 },
 "nbformat": 4,
 "nbformat_minor": 5
}
